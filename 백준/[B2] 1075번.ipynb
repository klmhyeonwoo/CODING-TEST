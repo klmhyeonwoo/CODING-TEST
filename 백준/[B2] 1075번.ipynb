{
  "nbformat": 4,
  "nbformat_minor": 0,
  "metadata": {
    "colab": {
      "name": "1075번",
      "provenance": [],
      "collapsed_sections": []
    },
    "kernelspec": {
      "name": "python3",
      "display_name": "Python 3"
    },
    "language_info": {
      "name": "python"
    }
  },
  "cells": [
    {
      "cell_type": "code",
      "execution_count": 79,
      "metadata": {
        "colab": {
          "base_uri": "https://localhost:8080/"
        },
        "id": "bbno_KSstgJB",
        "outputId": "3cbd3490-c3f6-4571-cb2f-7b661972a9fd"
      },
      "outputs": [
        {
          "output_type": "stream",
          "name": "stdout",
          "text": [
            "23442\n",
            "75\n",
            "00\n"
          ]
        }
      ],
      "source": [
        "n = input()\n",
        "f = int(input())\n",
        "\n",
        "temp = int(n[:-2] + '00')\n",
        "\n",
        "while True:\n",
        "  if temp % f == 0:\n",
        "    break\n",
        "  temp += 1\n",
        "\n",
        "print(str(temp)[-2:])"
      ]
    },
    {
      "cell_type": "code",
      "source": [
        ""
      ],
      "metadata": {
        "id": "Y3Ef4lbFvTtc"
      },
      "execution_count": null,
      "outputs": []
    }
  ]
}