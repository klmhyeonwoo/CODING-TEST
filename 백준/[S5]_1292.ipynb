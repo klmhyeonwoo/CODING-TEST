{
  "nbformat": 4,
  "nbformat_minor": 0,
  "metadata": {
    "colab": {
      "name": "[S5] 1292.ipynb",
      "provenance": [],
      "collapsed_sections": []
    },
    "kernelspec": {
      "name": "python3",
      "display_name": "Python 3"
    },
    "language_info": {
      "name": "python"
    }
  },
  "cells": [
    {
      "cell_type": "code",
      "execution_count": 56,
      "metadata": {
        "colab": {
          "base_uri": "https://localhost:8080/"
        },
        "id": "0OadXZNCBcmL",
        "outputId": "e570b4fe-fb43-49fe-f4ca-657641e89766"
      },
      "outputs": [
        {
          "output_type": "stream",
          "name": "stdout",
          "text": [
            "3 7\n",
            "15\n"
          ]
        }
      ],
      "source": [
        "n = 1\n",
        "listNum = []\n",
        "\n",
        "a, b = map(int, input().split())\n",
        "\n",
        "for i in range (1, 46):\n",
        "  for j in range (0, i):\n",
        "    listNum.append(i)\n",
        "print(sum(listNum[a-1:b]))\n"
      ]
    }
  ]
}