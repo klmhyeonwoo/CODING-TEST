{
  "nbformat": 4,
  "nbformat_minor": 0,
  "metadata": {
    "colab": {
      "name": "[G5] 1068.ipynb",
      "provenance": [],
      "collapsed_sections": []
    },
    "kernelspec": {
      "name": "python3",
      "display_name": "Python 3"
    },
    "language_info": {
      "name": "python"
    }
  },
  "cells": [
    {
      "cell_type": "code",
      "execution_count": 9,
      "metadata": {
        "id": "0OadXZNCBcmL",
        "colab": {
          "base_uri": "https://localhost:8080/"
        },
        "outputId": "52df0a50-392c-4dad-c0ee-6dd43e4750e1"
      },
      "outputs": [
        {
          "output_type": "stream",
          "name": "stdout",
          "text": [
            "5\n",
            "-1 0 0 1 1\n",
            "2\n",
            "2\n"
          ]
        }
      ],
      "source": [
        "def dfs (num, arr):\n",
        "  arr[num] = -2\n",
        "  for i in range(len(arr)):\n",
        "    if num == arr[i]:\n",
        "      dfs(i, arr)\n",
        "\n",
        "n = int(input())\n",
        "arr = list(map(int, input().split()))\n",
        "k = int(input())\n",
        "count = 0\n",
        "\n",
        "dfs(k, arr)\n",
        "for i in range(len(arr)):\n",
        "  if (arr[i] != -2) and (i not in arr):\n",
        "    count += 1\n",
        "print(count)\n",
        "\n",
        "# 참고 : https://wiselog.tistory.com/118"
      ]
    }
  ]
}