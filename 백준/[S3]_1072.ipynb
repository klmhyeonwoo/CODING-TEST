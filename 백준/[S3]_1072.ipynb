{
  "nbformat": 4,
  "nbformat_minor": 0,
  "metadata": {
    "colab": {
      "name": "[S3] 1072.ipynb",
      "provenance": [],
      "collapsed_sections": []
    },
    "kernelspec": {
      "name": "python3",
      "display_name": "Python 3"
    },
    "language_info": {
      "name": "python"
    }
  },
  "cells": [
    {
      "cell_type": "code",
      "execution_count": null,
      "metadata": {
        "id": "0OadXZNCBcmL"
      },
      "outputs": [],
      "source": [
        "x, y = map(int, input().split())\n",
        "\n",
        "avg = int (y / x * 100)\n",
        "low, high = 1, 1000000000\n",
        "if (avg >= 99):\n",
        "  print(-1)\n",
        "else:\n",
        "  while (low <= high):\n",
        "    mid = (high + low) // 2\n",
        "    tx, ty = mid + x, mid + y\n",
        "    tavg = int(ty / tx * 100)\n",
        "    if (tavg > avg):\n",
        "      high = mid - 1\n",
        "    else:\n",
        "      low = mid + 1\n",
        "\n",
        "  print(high + 1)"
      ]
    },
    {
      "cell_type": "code",
      "source": [
        "x, y = map(int, input().split())\n",
        "tmp = int((y / x) * 100)\n",
        "count = 0\n",
        "\n",
        "while True:\n",
        "  if (x == y):\n",
        "    count = -1\n",
        "    break\n",
        "  else:\n",
        "    x += 1\n",
        "    y += 1\n",
        "    count += 1\n",
        "    z = int((y / x) * 100)\n",
        "    if (tmp != z):\n",
        "      break\n",
        "print(count) "
      ],
      "metadata": {
        "colab": {
          "base_uri": "https://localhost:8080/"
        },
        "id": "mQ_flkdjCCH6",
        "outputId": "95844df3-d300-4f18-c1d5-bd196f224e2c"
      },
      "execution_count": null,
      "outputs": [
        {
          "output_type": "stream",
          "name": "stdout",
          "text": [
            "10 8\n",
            "1\n"
          ]
        }
      ]
    }
  ]
}