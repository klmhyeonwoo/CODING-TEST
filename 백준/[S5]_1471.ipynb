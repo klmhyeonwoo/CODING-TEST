{
  "nbformat": 4,
  "nbformat_minor": 0,
  "metadata": {
    "colab": {
      "name": "[S5] 1471.ipynb",
      "provenance": [],
      "collapsed_sections": []
    },
    "kernelspec": {
      "name": "python3",
      "display_name": "Python 3"
    },
    "language_info": {
      "name": "python"
    }
  },
  "cells": [
    {
      "cell_type": "code",
      "execution_count": 119,
      "metadata": {
        "colab": {
          "base_uri": "https://localhost:8080/"
        },
        "id": "0OadXZNCBcmL",
        "outputId": "11eaa0dc-0717-452d-9745-ffaed9208b05"
      },
      "outputs": [
        {
          "output_type": "stream",
          "name": "stdout",
          "text": [
            "1\n",
            "52\n",
            "0\n"
          ]
        }
      ],
      "source": [
        "n = int(input())\n",
        "group = []\n",
        "count = 0\n",
        "\n",
        "if (n == 1):\n",
        "  vote = int(input())\n",
        "\n",
        "else :\n",
        "  for i in range (n):\n",
        "    vote = int(input())\n",
        "    group.append(vote)\n",
        "\n",
        "  maximum = group.index(max(group))\n",
        "\n",
        "  while True:\n",
        "    if (group[0] >= group[maximum]):\n",
        "      break\n",
        "\n",
        "    else :\n",
        "      group[0] += 1\n",
        "      group[maximum] -= 1      \n",
        "      count += 1\n",
        "      maximum = group.index(max(group))\n",
        "\n",
        "  if (group.count(group[0]) >= 2):\n",
        "      group[0] += 1\n",
        "      count += 1\n",
        "\n",
        "print(count)"
      ]
    },
    {
      "cell_type": "code",
      "source": [
        "\n"
      ],
      "metadata": {
        "id": "U9Xgn90-N0_c"
      },
      "execution_count": null,
      "outputs": []
    }
  ]
}