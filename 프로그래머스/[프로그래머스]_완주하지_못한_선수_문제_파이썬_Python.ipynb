{
  "nbformat": 4,
  "nbformat_minor": 0,
  "metadata": {
    "colab": {
      "name": "[프로그래머스] 완주하지 못한 선수 문제 - 파이썬 Python.ipynb",
      "provenance": []
    },
    "kernelspec": {
      "name": "python3",
      "display_name": "Python 3"
    },
    "language_info": {
      "name": "python"
    }
  },
  "cells": [
    {
      "cell_type": "markdown",
      "source": [
        "** 문제 설명  **<br /><br />\n",
        "수많은 마라톤 선수들이 마라톤에 참여하였습니다. <br />\n",
        "단 한 명의 선수를 제외하고는 모든 선수가 마라톤을 완주하였습니다. <br />\n",
        "\n",
        "마라톤에 참여한 선수들의 이름이 담긴 배열 participant와 완주한 선수들의 이름이 담긴 배열 completion이 주어질 때,<br /> 완주하지 못한 선수의 이름을 return 하도록 solution 함수를 작성해주세요.\n",
        "\n",
        "\n",
        "***효율성 및 테스트 코드 적합 코드***"
      ],
      "metadata": {
        "id": "suYynB7tXSPo"
      }
    },
    {
      "cell_type": "code",
      "execution_count": 2,
      "metadata": {
        "colab": {
          "base_uri": "https://localhost:8080/"
        },
        "id": "1GpLvSqiWyZw",
        "outputId": "d2f40a50-fa25-4bb9-e302-410203d9cc23"
      },
      "outputs": [
        {
          "output_type": "stream",
          "name": "stdout",
          "text": [
            "mislav\n"
          ]
        }
      ],
      "source": [
        "import collections\n",
        "participant = [\"mislav\", \"test\", \"mislav\"]\n",
        "completion = [\"mislav\", \"test\"]\n",
        "\n",
        "\n",
        "def solution(participant, completion):\n",
        "\n",
        "    count = 0\n",
        "\n",
        "    for i in range (0, len(participant)):\n",
        "        if (participant.count(participant[i]) >= 2):\n",
        "            count = 1\n",
        "            break\n",
        "        \n",
        "    if (count == 1):\n",
        "        #for i in range (0, len(completion)):\n",
        "            #if (participant.count(completion[i]) >= 2):\n",
        "                #if (participant.count(completion[i]) != completion.count(completion[i])):\n",
        "                    #return completion[i]\n",
        "        answer = collections.Counter(participant) - collections.Counter(completion)\n",
        "        return list(answer.keys())[0]\n",
        "\n",
        "    \n",
        "    for i in participant:\n",
        "        if (i not in completion):\n",
        "            return i\n",
        "\n",
        "print(solution(participant, completion))"
      ]
    },
    {
      "cell_type": "markdown",
      "source": [
        "***아래 코드는 테스트 코드에 적합했지만, 효율성 문제로 배제하였다.***"
      ],
      "metadata": {
        "id": "bwV5TURyXM6s"
      }
    },
    {
      "cell_type": "code",
      "source": [
        "def solution(participant, completion):\n",
        "\n",
        "    count = 0\n",
        "\n",
        "    for i in range (0, len(participant)):\n",
        "        if (participant.count(participant[i]) >= 2):\n",
        "            count = 1\n",
        "            break\n",
        "        \n",
        "    if (count == 1):\n",
        "        for i in range (0, len(completion)):\n",
        "            if (participant.count(completion[i]) >= 2):\n",
        "                if (participant.count(completion[i]) != completion.count(completion[i])):\n",
        "                    return completion[i]\n",
        "    \n",
        "    for i in participant:\n",
        "        if (i not in completion):\n",
        "            return i\n",
        "\n",
        "print(solution(participant, completion))"
      ],
      "metadata": {
        "colab": {
          "base_uri": "https://localhost:8080/"
        },
        "id": "6s2x_k2eXAHN",
        "outputId": "bccb84e4-1d8b-4c07-c8e9-47bb1dd0f14f"
      },
      "execution_count": 5,
      "outputs": [
        {
          "output_type": "stream",
          "name": "stdout",
          "text": [
            "mislav\n"
          ]
        }
      ]
    }
  ]
}